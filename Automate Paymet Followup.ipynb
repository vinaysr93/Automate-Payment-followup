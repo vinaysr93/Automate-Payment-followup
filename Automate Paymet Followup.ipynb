{
 "cells": [
  {
   "cell_type": "code",
   "execution_count": 37,
   "metadata": {},
   "outputs": [],
   "source": [
    "import pandas as pd\n",
    "from collections import defaultdict\n",
    "import re\n",
    "from selenium import webdriver"
   ]
  },
  {
   "cell_type": "code",
   "execution_count": 38,
   "metadata": {},
   "outputs": [],
   "source": [
    "df=pd.read_excel(r\"D:\\desktop files\\Automate Paymet Followup\\December.xlsx\",\"BLR Dec\")"
   ]
  },
  {
   "cell_type": "code",
   "execution_count": 39,
   "metadata": {},
   "outputs": [
    {
     "data": {
      "text/html": [
       "<div>\n",
       "<style scoped>\n",
       "    .dataframe tbody tr th:only-of-type {\n",
       "        vertical-align: middle;\n",
       "    }\n",
       "\n",
       "    .dataframe tbody tr th {\n",
       "        vertical-align: top;\n",
       "    }\n",
       "\n",
       "    .dataframe thead th {\n",
       "        text-align: right;\n",
       "    }\n",
       "</style>\n",
       "<table border=\"1\" class=\"dataframe\">\n",
       "  <thead>\n",
       "    <tr style=\"text-align: right;\">\n",
       "      <th></th>\n",
       "      <th>Service Engineer</th>\n",
       "      <th>Customer</th>\n",
       "      <th>DocNo</th>\n",
       "      <th>DocDate</th>\n",
       "      <th>Debit</th>\n",
       "      <th>Total</th>\n",
       "      <th>Invoice</th>\n",
       "      <th>Days</th>\n",
       "      <th>Remarks</th>\n",
       "      <th>Rec Amount</th>\n",
       "      <th>Payament Rec Date</th>\n",
       "      <th>Cheque /RTGS no</th>\n",
       "      <th>Email</th>\n",
       "      <th>Cleared</th>\n",
       "    </tr>\n",
       "  </thead>\n",
       "  <tbody>\n",
       "    <tr>\n",
       "      <th>0</th>\n",
       "      <td>Vinay B</td>\n",
       "      <td>Accupunch Systems</td>\n",
       "      <td>AIPL/B/616/1617</td>\n",
       "      <td>2017-02-28</td>\n",
       "      <td>5175.0</td>\n",
       "      <td>5175.0</td>\n",
       "      <td>2018-11-30</td>\n",
       "      <td>640.0</td>\n",
       "      <td>NaN</td>\n",
       "      <td>NaN</td>\n",
       "      <td>NaT</td>\n",
       "      <td>NaN</td>\n",
       "      <td>NaN</td>\n",
       "      <td>NaN</td>\n",
       "    </tr>\n",
       "    <tr>\n",
       "      <th>1</th>\n",
       "      <td>Vinay B</td>\n",
       "      <td>ACE Electrical Equipments (I) Pvt Ltd</td>\n",
       "      <td>B/SR/493/1819</td>\n",
       "      <td>2018-11-24</td>\n",
       "      <td>3540.0</td>\n",
       "      <td>3540.0</td>\n",
       "      <td>2018-11-30</td>\n",
       "      <td>6.0</td>\n",
       "      <td>NaN</td>\n",
       "      <td>NaN</td>\n",
       "      <td>NaT</td>\n",
       "      <td>NaN</td>\n",
       "      <td>NaN</td>\n",
       "      <td>NaN</td>\n",
       "    </tr>\n",
       "    <tr>\n",
       "      <th>2</th>\n",
       "      <td>Vinay B</td>\n",
       "      <td>Adobe Metal products</td>\n",
       "      <td>B/SR/463/1819</td>\n",
       "      <td>2018-11-12</td>\n",
       "      <td>3540.0</td>\n",
       "      <td>23010.0</td>\n",
       "      <td>2018-11-30</td>\n",
       "      <td>18.0</td>\n",
       "      <td>NaN</td>\n",
       "      <td>NaN</td>\n",
       "      <td>NaT</td>\n",
       "      <td>NaN</td>\n",
       "      <td>NaN</td>\n",
       "      <td>NaN</td>\n",
       "    </tr>\n",
       "    <tr>\n",
       "      <th>3</th>\n",
       "      <td>Vinay B</td>\n",
       "      <td>Adobe Metal products</td>\n",
       "      <td>B/SR/467/1819</td>\n",
       "      <td>2018-11-13</td>\n",
       "      <td>3540.0</td>\n",
       "      <td>NaN</td>\n",
       "      <td>2018-11-30</td>\n",
       "      <td>17.0</td>\n",
       "      <td>NaN</td>\n",
       "      <td>NaN</td>\n",
       "      <td>NaT</td>\n",
       "      <td>NaN</td>\n",
       "      <td>NaN</td>\n",
       "      <td>NaN</td>\n",
       "    </tr>\n",
       "    <tr>\n",
       "      <th>4</th>\n",
       "      <td>Vinay B</td>\n",
       "      <td>Adobe Metal products</td>\n",
       "      <td>B/SR/489/1819</td>\n",
       "      <td>2018-11-24</td>\n",
       "      <td>15930.0</td>\n",
       "      <td>NaN</td>\n",
       "      <td>2018-11-30</td>\n",
       "      <td>6.0</td>\n",
       "      <td>NaN</td>\n",
       "      <td>NaN</td>\n",
       "      <td>NaT</td>\n",
       "      <td>NaN</td>\n",
       "      <td>NaN</td>\n",
       "      <td>NaN</td>\n",
       "    </tr>\n",
       "  </tbody>\n",
       "</table>\n",
       "</div>"
      ],
      "text/plain": [
       "  Service Engineer                               Customer            DocNo  \\\n",
       "0          Vinay B                      Accupunch Systems  AIPL/B/616/1617   \n",
       "1          Vinay B  ACE Electrical Equipments (I) Pvt Ltd    B/SR/493/1819   \n",
       "2          Vinay B                   Adobe Metal products    B/SR/463/1819   \n",
       "3          Vinay B                   Adobe Metal products    B/SR/467/1819   \n",
       "4          Vinay B                   Adobe Metal products    B/SR/489/1819   \n",
       "\n",
       "     DocDate    Debit    Total    Invoice   Days Remarks  Rec Amount  \\\n",
       "0 2017-02-28   5175.0   5175.0 2018-11-30  640.0     NaN         NaN   \n",
       "1 2018-11-24   3540.0   3540.0 2018-11-30    6.0     NaN         NaN   \n",
       "2 2018-11-12   3540.0  23010.0 2018-11-30   18.0     NaN         NaN   \n",
       "3 2018-11-13   3540.0      NaN 2018-11-30   17.0     NaN         NaN   \n",
       "4 2018-11-24  15930.0      NaN 2018-11-30    6.0     NaN         NaN   \n",
       "\n",
       "  Payament Rec Date Cheque /RTGS no Email Cleared  \n",
       "0               NaT             NaN   NaN     NaN  \n",
       "1               NaT             NaN   NaN     NaN  \n",
       "2               NaT             NaN   NaN     NaN  \n",
       "3               NaT             NaN   NaN     NaN  \n",
       "4               NaT             NaN   NaN     NaN  "
      ]
     },
     "execution_count": 39,
     "metadata": {},
     "output_type": "execute_result"
    }
   ],
   "source": [
    "df.head()\n"
   ]
  },
  {
   "cell_type": "code",
   "execution_count": 40,
   "metadata": {},
   "outputs": [
    {
     "name": "stdout",
     "output_type": "stream",
     "text": [
      "Sreenivasa Industries\n",
      "Invoice Number\tDate of Invoice \tBill Amount\tEmail\n",
      "[['AIPL/B/361/1617', '2018-11-30', 575.0, 'sreenivasaindustries@gmail.com']]\n",
      "\n",
      "Sreenivasa Industries(Fanuc)\n",
      "Invoice Number\tDate of Invoice \tBill Amount\tEmail\n",
      "[['B/SR/474/1819', '2018-11-30', 8496.0, 'sreenivasaindustries@gmail.com']]\n",
      "\n",
      "Sri Magod Laser\n",
      "Invoice Number\tDate of Invoice \tBill Amount\tEmail\n",
      "[['B/SR/347/1819', '2018-11-30', 7080.0, 'magodlaser@gmail.com']]\n",
      "\n",
      "Sri Sai Industries -\n",
      "Invoice Number\tDate of Invoice \tBill Amount\tEmail\n",
      "[['B/SR/432/1819', '2018-11-30', 8850.0, 'srisaiind@hotmail.com'], ['B/SR/457/1819', '2018-11-30', 3540.0, 'srisaiind@hotmail.com'], ['B/SR/479/1819', '2018-11-30', 3540.0, 'srisaiind@hotmail.com']]\n",
      "\n",
      "Sri Vigneshwara Enterprises\n",
      "Invoice Number\tDate of Invoice \tBill Amount\tEmail\n",
      "[['B/AMC/5/1819', '2018-11-30', 47200.0, 'vigneshwaraenterprises@gmail.com']]\n",
      "\n",
      "Stalwart Elevators Products Pvt Ltd\n",
      "Invoice Number\tDate of Invoice \tBill Amount\tEmail\n",
      "[['B/SR/358/1819', '2018-11-30', 5900.0, 'stalwartelevators@gmail.com']]\n",
      "\n",
      "Startronix Modular Systems Pvt Ltd \n",
      "Invoice Number\tDate of Invoice \tBill Amount\tEmail\n",
      "[['B/SR/22/1819', '2018-11-30', 3540.0, 'startronixmodular@gmail.com'], ['B/SR/32/1819', '2018-11-30', 3540.0, 'startronixmodular@gmail.com'], ['B/SR/498/1819', '2018-11-30', 14160.0, 'startronixmodular@gmail.com']]\n",
      "\n"
     ]
    }
   ],
   "source": [
    "d=defaultdict(list)\n",
    "\n",
    "for x in range (len(df[\"Service Engineer\"])):\n",
    "    \n",
    "    if df[\"Service Engineer\"][x] ==\"Vinay S\":\n",
    "        \n",
    "            customer_name=df[\"Customer\"][x]\n",
    "            \n",
    "            \n",
    "            inv_no=df[\"DocNo\"][x]\n",
    "            \n",
    "            s=re.compile(r'\\d\\d\\d\\d-\\d\\d-\\d\\d')\n",
    "            r=s.match(str(df[\"Invoice\"][x]))\n",
    "            inv_date=r.group()\n",
    "            bill_amount=df[\"Debit\"][x]\n",
    "            days=df[\"Days\"][x]\n",
    "            email=df[\"Email\"][x]\n",
    "            status=df[\"Cleared\"][x]\n",
    "      \n",
    "            \n",
    "            \n",
    "            d[customer_name].append([inv_no,inv_date,bill_amount,email])\n",
    "\n",
    "for i in d:\n",
    "   print(i)\n",
    "   print(\"Invoice Number\\tDate of Invoice \\tBill Amount\\tEmail\")\n",
    "   print(d[i],end=\"\\n\")\n",
    "   print()"
   ]
  },
  {
   "cell_type": "code",
   "execution_count": 41,
   "metadata": {},
   "outputs": [],
   "source": [
    "from selenium import webdriver\n",
    "from selenium.webdriver.firefox.firefox_binary import FirefoxBinary\n",
    "from selenium.webdriver.common.desired_capabilities import DesiredCapabilities\n",
    "from selenium.webdriver.support import expected_conditions as EC\n",
    "from selenium.webdriver.common.by import By\n",
    "from selenium.webdriver.support.ui import WebDriverWait"
   ]
  },
  {
   "cell_type": "code",
   "execution_count": 42,
   "metadata": {},
   "outputs": [],
   "source": [
    "browser=webdriver.Firefox()\n"
   ]
  },
  {
   "cell_type": "code",
   "execution_count": 43,
   "metadata": {},
   "outputs": [],
   "source": [
    "browser.get(\"http://www.gmail.com\")"
   ]
  },
  {
   "cell_type": "code",
   "execution_count": 44,
   "metadata": {},
   "outputs": [],
   "source": [
    "browser.find_element_by_name(\"identifier\").send_keys(\"vinaysr93@gmail.com\")"
   ]
  },
  {
   "cell_type": "code",
   "execution_count": 45,
   "metadata": {},
   "outputs": [],
   "source": [
    "browser.implicitly_wait(5)"
   ]
  },
  {
   "cell_type": "code",
   "execution_count": 46,
   "metadata": {},
   "outputs": [],
   "source": [
    "browser.find_element_by_xpath(\"//span[contains(text(), 'Next')]\").click()"
   ]
  },
  {
   "cell_type": "code",
   "execution_count": 47,
   "metadata": {},
   "outputs": [],
   "source": [
    "password = WebDriverWait(browser, 5).until(\n",
    "    EC.element_to_be_clickable((By.XPATH, \"//input[@name='password']\"))\n",
    ")"
   ]
  },
  {
   "cell_type": "code",
   "execution_count": 48,
   "metadata": {},
   "outputs": [],
   "source": [
    "password.send_keys('password')"
   ]
  },
  {
   "cell_type": "code",
   "execution_count": 49,
   "metadata": {},
   "outputs": [],
   "source": [
    "browser.find_element_by_id(\"passwordNext\").click()"
   ]
  },
  {
   "cell_type": "code",
   "execution_count": null,
   "metadata": {},
   "outputs": [],
   "source": [
    "    "
   ]
  }
 ],
 "metadata": {
  "kernelspec": {
   "display_name": "Python 3",
   "language": "python",
   "name": "python3"
  },
  "language_info": {
   "codemirror_mode": {
    "name": "ipython",
    "version": 3
   },
   "file_extension": ".py",
   "mimetype": "text/x-python",
   "name": "python",
   "nbconvert_exporter": "python",
   "pygments_lexer": "ipython3",
   "version": "3.7.0"
  }
 },
 "nbformat": 4,
 "nbformat_minor": 2
}
